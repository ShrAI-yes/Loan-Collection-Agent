{
 "cells": [
  {
   "cell_type": "code",
   "execution_count": 43,
   "id": "bda192e8-47bb-4298-b4ff-4d20e99523e6",
   "metadata": {},
   "outputs": [],
   "source": [
    "import os\n",
    "import time\n",
    "from gtts import gTTS\n",
    "import speech_recognition as sr\n",
    "from langchain_mistralai import ChatMistralAI\n",
    "from langchain_core.output_parsers import StrOutputParser\n",
    "from langchain_core.prompts import ChatPromptTemplate\n",
    "from langchain_chroma import Chroma\n",
    "from langchain_huggingface import HuggingFaceEmbeddings\n",
    "from db_search import get_info as search"
   ]
  },
  {
   "cell_type": "code",
   "execution_count": 44,
   "id": "bc8ca2a7-c1a1-448d-ace6-32019be6604e",
   "metadata": {},
   "outputs": [],
   "source": [
    "llm = ChatMistralAI(\n",
    "    model=\"mistral-large-latest\",\n",
    "    temperature=0,\n",
    "    max_retries=2,\n",
    "    api_key=\"I5uzjp4ZXUioIEM7hdYgdJtpv4NUlWov\"\n",
    ")"
   ]
  },
  {
   "cell_type": "code",
   "execution_count": 37,
   "id": "3f454f0e-7f7d-4e67-8e3c-dfdb063f64f0",
   "metadata": {},
   "outputs": [],
   "source": [
    "embedder = HuggingFaceEmbeddings(model_name=\"all-MiniLM-L6-v2\")\n",
    "db = Chroma(persist_directory=\"./vector_db\", embedding_function=embedder)\n",
    "\n",
    "def get_response(user_query, doc_context):\n",
    "    llm_query_res_template = \"\"\"\n",
    "        Answer the question based on the context below. If the question cannot be answered using the information provided, reply with \"I don't know\". Also, make sure to answer the following questions considering the history of the conversation:\n",
    "        You are an intelligent virtual financial assistant for Predixion AI, directly engaging with customers about their loan repayments. Your role is to help manage their loan, facilitate payments, and answer financial questions in a clear, professional way. Communicate in a friendly, authoritative manner, addressing the customer directly (\"you\") with concise responses suitable for WhatsApp.\n",
    "        Make sure you communicate with the user in such a way that your response should always lead to payment collection.\n",
    "        Based on the user question, you should respond in a short way. Do not write much; it should be short and precise.\n",
    "\n",
    "        Instructions:\n",
    "        1. Use precise financial language and ensure clear, accurate information.\n",
    "        2. Facilitate payments: If the user is willing to pay the loan then please provide this link '''https://paymentUSER1UDN.com'''. Do not send the link until user requests or user wants to pay the loan.\n",
    "        3. Offer solutions: If the customer is struggling, provide options like grace periods, payment restructuring, or deadline extensions.\n",
    "        4. Keep responses short and to the point.\n",
    "        5. Ensure confidentiality and remind the customer to keep their payment details secure.\n",
    "        6. You can only extend the loan dates by 10 days if user requests for grace periods or deadline extensions.\n",
    "\n",
    "        Context: \"NONE\"\n",
    "        Question: {user_query}\n",
    "        Doc context: {doc_context}\n",
    "        Answer:\n",
    "    \"\"\"\n",
    "\n",
    "    prompt_query_res_template = ChatPromptTemplate.from_template(llm_query_res_template)\n",
    "    llm_chain = prompt_query_res_template | llm | StrOutputParser()\n",
    "\n",
    "    '''response = llm_chain.stream({\n",
    "        \"user_query\": user_query,\n",
    "        \"context\": context,\n",
    "        \"doc_context\": doc_context,\n",
    "    })'''\n",
    "\n",
    "    response = ''.join([chunk for chunk in llm_chain.stream({\n",
    "        \"user_query\": user_query,\n",
    "        #\"context\": context,\n",
    "        \"doc_context\": doc_context,\n",
    "    })])\n",
    "\n",
    "    return response"
   ]
  },
  {
   "cell_type": "code",
   "execution_count": 39,
   "id": "b38019a4-0539-47ba-aa97-31d041576505",
   "metadata": {},
   "outputs": [],
   "source": [
    "def get_info(phone):\n",
    "    if phone in dataset['Mobile_No'].values:\n",
    "        return dataset[dataset['Mobile_No'] == phone][data]\n",
    "    else:\n",
    "        return None"
   ]
  },
  {
   "cell_type": "code",
   "execution_count": 42,
   "id": "a8641e51-97a0-48e4-bc56-2297e5e83f6c",
   "metadata": {},
   "outputs": [
    {
     "data": {
      "text/html": [
       "<div>\n",
       "<style scoped>\n",
       "    .dataframe tbody tr th:only-of-type {\n",
       "        vertical-align: middle;\n",
       "    }\n",
       "\n",
       "    .dataframe tbody tr th {\n",
       "        vertical-align: top;\n",
       "    }\n",
       "\n",
       "    .dataframe thead th {\n",
       "        text-align: right;\n",
       "    }\n",
       "</style>\n",
       "<table border=\"1\" class=\"dataframe\">\n",
       "  <thead>\n",
       "    <tr style=\"text-align: right;\">\n",
       "      <th></th>\n",
       "      <th>F_Name</th>\n",
       "      <th>L_Name</th>\n",
       "      <th>Gender</th>\n",
       "      <th>Income</th>\n",
       "      <th>Bureau_score</th>\n",
       "      <th>Loan_amount</th>\n",
       "      <th>Loan_type</th>\n",
       "      <th>Interest_Rate</th>\n",
       "      <th>Interest</th>\n",
       "      <th>Loan_Processing_Fee</th>\n",
       "      <th>Current_balance</th>\n",
       "      <th>Installment_Amount</th>\n",
       "      <th>Disbursal_Date</th>\n",
       "      <th>Repayment_Start_Date</th>\n",
       "      <th>Repayment_tenure</th>\n",
       "      <th>Date_of_last_payment</th>\n",
       "      <th>Repayment_mode</th>\n",
       "      <th>No_of_late_payments</th>\n",
       "    </tr>\n",
       "  </thead>\n",
       "  <tbody>\n",
       "    <tr>\n",
       "      <th>0</th>\n",
       "      <td>Myra</td>\n",
       "      <td>Das</td>\n",
       "      <td>Female</td>\n",
       "      <td>411116.9</td>\n",
       "      <td>708</td>\n",
       "      <td>43431.0</td>\n",
       "      <td>Consumer Durable Loan</td>\n",
       "      <td>10.8</td>\n",
       "      <td>2345.3</td>\n",
       "      <td>434.3</td>\n",
       "      <td>23371.7</td>\n",
       "      <td>7468.2</td>\n",
       "      <td>2023-09-02</td>\n",
       "      <td>2023-10-02</td>\n",
       "      <td>6</td>\n",
       "      <td>2024-07-14</td>\n",
       "      <td>UPI</td>\n",
       "      <td>0</td>\n",
       "    </tr>\n",
       "  </tbody>\n",
       "</table>\n",
       "</div>"
      ],
      "text/plain": [
       "  F_Name L_Name  Gender    Income  Bureau_score  Loan_amount  \\\n",
       "0   Myra    Das  Female  411116.9           708      43431.0   \n",
       "\n",
       "               Loan_type  Interest_Rate  Interest  Loan_Processing_Fee  \\\n",
       "0  Consumer Durable Loan           10.8    2345.3                434.3   \n",
       "\n",
       "   Current_balance  Installment_Amount Disbursal_Date Repayment_Start_Date  \\\n",
       "0          23371.7              7468.2     2023-09-02           2023-10-02   \n",
       "\n",
       "   Repayment_tenure Date_of_last_payment Repayment_mode  No_of_late_payments  \n",
       "0                 6           2024-07-14            UPI                    0  "
      ]
     },
     "execution_count": 42,
     "metadata": {},
     "output_type": "execute_result"
    }
   ],
   "source": [
    "person = get_info(9988953565)\n",
    "person"
   ]
  },
  {
   "cell_type": "code",
   "execution_count": 1,
   "id": "ac58bf24-8728-42a0-a6cb-9cb14ca01532",
   "metadata": {},
   "outputs": [
    {
     "data": {
      "text/plain": [
       "int"
      ]
     },
     "execution_count": 1,
     "metadata": {},
     "output_type": "execute_result"
    }
   ],
   "source": [
    "type(9988953565)"
   ]
  }
 ],
 "metadata": {
  "kernelspec": {
   "display_name": "Python 3 (ipykernel)",
   "language": "python",
   "name": "python3"
  },
  "language_info": {
   "codemirror_mode": {
    "name": "ipython",
    "version": 3
   },
   "file_extension": ".py",
   "mimetype": "text/x-python",
   "name": "python",
   "nbconvert_exporter": "python",
   "pygments_lexer": "ipython3",
   "version": "3.11.11"
  }
 },
 "nbformat": 4,
 "nbformat_minor": 5
}
