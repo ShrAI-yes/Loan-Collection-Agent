{
 "cells": [
  {
   "cell_type": "code",
   "execution_count": 2,
   "id": "e7fbcb8e-1330-41e9-a36b-72ab14f342b2",
   "metadata": {},
   "outputs": [],
   "source": [
    "from langchain.text_splitter import RecursiveCharacterTextSplitter\n",
    "from langchain_huggingface import HuggingFaceEmbeddings\n",
    "from langchain.document_loaders import PyPDFDirectoryLoader\n",
    "import chromadb\n",
    "from chromadb.utils import embedding_functions\n",
    "import uuid"
   ]
  },
  {
   "cell_type": "code",
   "execution_count": 2,
   "id": "838ebc80-5f14-48d2-96e7-9bfd4d708631",
   "metadata": {},
   "outputs": [],
   "source": [
    "def load_dir(dir):\n",
    "    loader = PyPDFDirectoryLoader(dir)\n",
    "    documents = loader.load()\n",
    "    return documents"
   ]
  },
  {
   "cell_type": "code",
   "execution_count": 22,
   "id": "be71079d-0ec5-4ece-83ec-1de3b3b8f0b4",
   "metadata": {},
   "outputs": [],
   "source": [
    "def chunking(documents):\n",
    "    text_splitter = RecursiveCharacterTextSplitter(chunk_size=512, chunk_overlap=20, separators=[\"\\n\\n\", \"\\n\", \" \", \"\"])\n",
    "    chunks = text_splitter.split_documents(documents)\n",
    "    ids = [str(uuid.uuid1()) for _ in range(len(chunks))] \n",
    "    texts = [chunk.page_content for chunk in chunks]\n",
    "    metadata = [chunk.metadata for chunk in chunks] \n",
    "    return ids, texts, metadata"
   ]
  },
  {
   "cell_type": "code",
   "execution_count": 3,
   "id": "132eee34-c757-4478-a166-1fe9742204c2",
   "metadata": {},
   "outputs": [],
   "source": [
    "def embed_chunks(ids, chunks, metadata) -> None:\n",
    "    embedding_function = embedding_functions.SentenceTransformerEmbeddingFunction(model_name=\"all-mpnet-base-v2\")\n",
    "    client = chromadb.PersistentClient(path=\"./vector_db/\")\n",
    "    collection = client.get_or_create_collection(\n",
    "        name='policies',\n",
    "        embedding_function=embedding_function\n",
    "    )\n",
    "    collection.add(\n",
    "        documents=chunks,\n",
    "        metadatas=metadata,\n",
    "        ids=ids\n",
    "    )"
   ]
  },
  {
   "cell_type": "code",
   "execution_count": 8,
   "id": "fc7b03a6-22b9-4695-a402-7ac30da7a5b5",
   "metadata": {},
   "outputs": [],
   "source": [
    "if __name__ == '__main__':\n",
    "    docs = load_dir('RAG docs/')\n",
    "    ids, chunks, metadata = chunking(docs)\n",
    "    embed_chunks(ids, chunks, metadata)"
   ]
  },
  {
   "cell_type": "code",
   "execution_count": null,
   "id": "2df2d072-315a-4e72-bdb9-06dd0a27a59e",
   "metadata": {},
   "outputs": [],
   "source": []
  },
  {
   "cell_type": "code",
   "execution_count": 19,
   "id": "7642e8f5-3b52-4b06-bce3-06b1055a2f6d",
   "metadata": {},
   "outputs": [],
   "source": [
    "embedding_function = embedding_functions.SentenceTransformerEmbeddingFunction(model_name=\"all-mpnet-base-v2\")\n",
    "client = chromadb.PersistentClient(path=\"./vector_db/\")\n",
    "collection = client.get_or_create_collection(\n",
    "    name='policies',\n",
    "    embedding_function=embedding_function\n",
    ")\n",
    "    \n",
    "query = 'All policies and guidelines related to the customer'\n",
    "\n",
    "results = collection.query(\n",
    "    query_texts=[query],\n",
    "    n_results=5,\n",
    "    include=[\"documents\", \"metadatas\"]\n",
    ")"
   ]
  },
  {
   "cell_type": "code",
   "execution_count": 20,
   "id": "da4ee829-6072-4e63-a7ad-a6f5632138b3",
   "metadata": {},
   "outputs": [
    {
     "name": "stdout",
     "output_type": "stream",
     "text": [
      "• Not enter the customer’s residence against his/her wishes or when they are told the customer is not at home;  \n",
      "• Not restrict the customer’s movement or restrain him/her from entering or leaving the house/room;  \n",
      "• Not remain in the  customer’s house if he/she were to leave for any reason including to collect money from a bank/elsewhere;  \n",
      "• Respect the customer’s privacy – do not embarrass the customer in the presence of his/her neighbours;• Not enter the customer’s residence against his/her wishes or when they are told the customer is not at home;  \n",
      "• Not restrict the customer’s movement or restrain him/her from entering or leaving the house/room;  \n",
      "• Not remain in the  customer’s house if he/she were to leave for any reason including to collect money from a bank/elsewhere;  \n",
      "• Respect the customer’s privacy – do not embarrass the customer in the presence of his/her neighbours;every interaction with customers and the Customers must be informed that the call is being recorded.  \n",
      "4. Customers are entitle d to privacy. Privacy policies apply to all conversations with third parties, as stipulated in this document.   \n",
      "5. All collection activities should be consistent with the guidelines provided in this document and in compliance with the Code for collectionsevery interaction with customers and the Customers must be informed that the call is being recorded.  \n",
      "4. Customers are entitle d to privacy. Privacy policies apply to all conversations with third parties, as stipulated in this document.   \n",
      "5. All collection activities should be consistent with the guidelines provided in this document and in compliance with the Code for collections• Respect personal space; do not restrict the customer’s movement.  \n",
      "• Not to unnecessarily call the Cus tomer prior to or subsequent to the visit to the Customers’ work place from their individual mobiles phones unless \n",
      "the said call is necessitated for checking on the availability of the Customers or for directions to the location of the Cust omers’ work plac e or for \n",
      "follow up to the visit to the Customers’ work place.  \n",
      " 3.10\n"
     ]
    }
   ],
   "source": [
    "print(''.join([rules for rules in results['documents'][0]]))\n"
   ]
  }
 ],
 "metadata": {
  "kernelspec": {
   "display_name": "Python 3 (ipykernel)",
   "language": "python",
   "name": "python3"
  },
  "language_info": {
   "codemirror_mode": {
    "name": "ipython",
    "version": 3
   },
   "file_extension": ".py",
   "mimetype": "text/x-python",
   "name": "python",
   "nbconvert_exporter": "python",
   "pygments_lexer": "ipython3",
   "version": "3.11.11"
  }
 },
 "nbformat": 4,
 "nbformat_minor": 5
}
