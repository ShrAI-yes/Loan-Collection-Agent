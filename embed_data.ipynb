{
 "cells": [
  {
   "cell_type": "code",
   "execution_count": 1,
   "id": "e7fbcb8e-1330-41e9-a36b-72ab14f342b2",
   "metadata": {},
   "outputs": [],
   "source": [
    "from langchain_chroma import Chroma\n",
    "from langchain.text_splitter import RecursiveCharacterTextSplitter\n",
    "from langchain_huggingface import HuggingFaceEmbeddings\n",
    "import PyPDF2"
   ]
  },
  {
   "cell_type": "code",
   "execution_count": 2,
   "id": "c9270b28-9e32-4821-b257-208357a87294",
   "metadata": {},
   "outputs": [],
   "source": [
    "def extract_pdf(pdf_path):\n",
    "    text = \"\"\n",
    "    try:\n",
    "        with open(pdf_path, 'rb') as pdf_file:\n",
    "            pdf_reader = PyPDF2.PdfReader(pdf_file)\n",
    "            for page in pdf_reader.pages:\n",
    "                text += page.extract_text()\n",
    "        return text\n",
    "    except Exception as e:\n",
    "        print(f\"Error extracting text from {pdf_path}: {e}\")\n",
    "        return None"
   ]
  },
  {
   "cell_type": "code",
   "execution_count": 3,
   "id": "be71079d-0ec5-4ece-83ec-1de3b3b8f0b4",
   "metadata": {},
   "outputs": [],
   "source": [
    "def chunking(text):\n",
    "    text_splitter = RecursiveCharacterTextSplitter(chunk_size=512, chunk_overlap=50, separators=[\"\\n\\n\", \"\\n\", \" \", \"\"])\n",
    "    chunks = text_splitter.split_text(text)\n",
    "    return chunks"
   ]
  },
  {
   "cell_type": "code",
   "execution_count": 4,
   "id": "29bf8f82-1115-4271-afc3-55fa218a154b",
   "metadata": {},
   "outputs": [],
   "source": [
    "embedder = HuggingFaceEmbeddings(model_name=\"all-MiniLM-L6-v2\")"
   ]
  },
  {
   "cell_type": "code",
   "execution_count": 5,
   "id": "132eee34-c757-4478-a166-1fe9742204c2",
   "metadata": {},
   "outputs": [],
   "source": [
    "def embed_chunks(chunks):\n",
    "    embbeddings = embedder.embed_documents(chunks)\n",
    "    db = Chroma(persist_directory=\"./vector_db\", embedding_function=embedder)\n",
    "    db.add_texts(texts=chunks)"
   ]
  },
  {
   "cell_type": "code",
   "execution_count": 6,
   "id": "000f0e71-bc18-42e8-90a6-ddfce907940a",
   "metadata": {},
   "outputs": [
    {
     "data": {
      "text/plain": [
       "221"
      ]
     },
     "execution_count": 6,
     "metadata": {},
     "output_type": "execute_result"
    }
   ],
   "source": [
    "text = extract_pdf(\"RBL Retail-Collection-Policy.pdf\")\n",
    "chunks = chunking(text)"
   ]
  },
  {
   "cell_type": "code",
   "execution_count": 8,
   "id": "6828a69d-f958-4f66-84c5-b06e54ce20d3",
   "metadata": {},
   "outputs": [],
   "source": [
    "embed_chunks(chunks)"
   ]
  }
 ],
 "metadata": {
  "kernelspec": {
   "display_name": "Python 3 (ipykernel)",
   "language": "python",
   "name": "python3"
  },
  "language_info": {
   "codemirror_mode": {
    "name": "ipython",
    "version": 3
   },
   "file_extension": ".py",
   "mimetype": "text/x-python",
   "name": "python",
   "nbconvert_exporter": "python",
   "pygments_lexer": "ipython3",
   "version": "3.9.18"
  }
 },
 "nbformat": 4,
 "nbformat_minor": 5
}
