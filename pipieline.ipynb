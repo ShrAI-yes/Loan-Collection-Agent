{
 "cells": [
  {
   "cell_type": "code",
   "execution_count": 1,
   "id": "de302cd1-e707-412d-be4e-6bb5d385f15f",
   "metadata": {},
   "outputs": [],
   "source": [
    "import json\n",
    "import datetime, pytz\n",
    "import speech_recognition as sr\n",
    "\n",
    "from db_search import get_info\n",
    "\n",
    "from langchain_mistralai import ChatMistralAI\n",
    "from langchain_core.output_parsers import StrOutputParser\n",
    "from langchain_core.prompts import ChatPromptTemplate, MessagesPlaceholder\n",
    "from langchain_core.messages import ToolMessage, HumanMessage, SystemMessage, AIMessage\n",
    "from langchain.tools import tool, StructuredTool"
   ]
  },
  {
   "cell_type": "code",
   "execution_count": 2,
   "id": "2b4d8991-7885-4d21-a3d7-a10d254573d5",
   "metadata": {},
   "outputs": [],
   "source": [
    "llm = ChatMistralAI(\n",
    "    model=\"mistral-large-latest\",\n",
    "    temperature=0,\n",
    "    max_retries=2,\n",
    "    api_key=\"suFEUjmnfvT2AQSF5b6MQJ9NyZwDLsqG\"\n",
    ")"
   ]
  },
  {
   "cell_type": "code",
   "execution_count": 3,
   "id": "26660ef9-9951-41f3-86aa-2bc2d8a30401",
   "metadata": {},
   "outputs": [],
   "source": [
    "def speech_to_text():\n",
    "    recognizer = sr.Recognizer()\n",
    "    with sr.Microphone() as source:\n",
    "        print(\"_\"*100)\n",
    "        try:\n",
    "            audio = recognizer.listen(source, timeout=300)\n",
    "            user_input = recognizer.recognize_google(audio)\n",
    "            print(f\"You said: {user_input}\")\n",
    "            return user_input\n",
    "        except sr.UnknownValueError:\n",
    "            return None\n",
    "        except sr.WaitTimeoutError:\n",
    "            return None"
   ]
  },
  {
   "cell_type": "code",
   "execution_count": 4,
   "id": "65c4b6fa-6219-497c-a607-5331db62a581",
   "metadata": {},
   "outputs": [],
   "source": [
    "@tool\n",
    "\n",
    "def get_user_data() -> dict:\n",
    "    \"\"\"\n",
    "    Returns all information about the customer's loan.\n",
    "    \"\"\"\n",
    "    key = int(phone)\n",
    "    user_data = get_info(key)\n",
    "    return user_data"
   ]
  },
  {
   "cell_type": "code",
   "execution_count": 5,
   "id": "7717dff0-da84-4a64-817e-3bf38c531960",
   "metadata": {},
   "outputs": [],
   "source": [
    "@tool\n",
    "def current_date_time() -> dict:\n",
    "    '''\n",
    "    Returns the current server date and time in JSON format.\n",
    "    '''\n",
    "    now = datetime.datetime.now()\n",
    "    ist_timezone = pytz.timezone('Asia/Kolkata')\n",
    "    dt_ist = now.astimezone(ist_timezone)\n",
    "    time = dict()\n",
    "    time['day'] = dt_ist.strftime('%A')\n",
    "    time['month'] = dt_ist.strftime('%B')\n",
    "    time['date'] = dt_ist.strftime('%Y-%m-%d')\n",
    "    time['time'] = dt_ist.strftime('%H:%M')\n",
    "    return time"
   ]
  },
  {
   "cell_type": "code",
   "execution_count": 6,
   "id": "cc2c7d2f-79ea-42c4-be9f-4f9739a08e20",
   "metadata": {},
   "outputs": [],
   "source": [
    "llm_with_tools = llm.bind_tools([get_user_data, current_date_time])\n",
    "\n",
    "tool_mapping = {\n",
    "    \"get_user_data\" : get_user_data,\n",
    "    \"current_date_time\" : current_date_time\n",
    "}"
   ]
  },
  {
   "cell_type": "code",
   "execution_count": 7,
   "id": "855ee280-029b-4b2c-a2dc-609c0a3f4648",
   "metadata": {},
   "outputs": [],
   "source": [
    "#Refresh convo.\n",
    "\n",
    "template = \"\"\"You are an intelligent virtual financial agent helping our customer {first_name} {last_name}.\n",
    "            Your role is to help manage the customer's loan repayment and answer their financial questions in a clear and precise way. \n",
    "\n",
    "            Instructions:\n",
    "            1. Use precise financial language and ensure clear, accurate information.\n",
    "            2. If the user is willing to pay the loan then please provide this link '''https://paymentUSER1UDN.com'''. Do not send the link until user requests or user wants to pay the loan.\n",
    "            3. If the customer is struggling, provide options like grace periods, payment restructuring, or deadline extensions considering their income, number of late repayment and loan amount yet to be repayed.\n",
    "            4. Keep responses short and to the point.\n",
    "            5. Ensure confidentiality and remind the customer to keep their payment details secure.\n",
    "            6. You can only extend the last loan repayment date by a maximum of 10 days if user requests for grace periods or deadline extensions considering their income, number of late repayment and loan amount yet to be repayed.\n",
    "            7. If the question cannot be answered using the information provided, reply with \"Sorry, but I am unable to answer this query\". \n",
    "            \n",
    "\"\"\"\n",
    "\n",
    "chat_history = []"
   ]
  },
  {
   "cell_type": "code",
   "execution_count": 8,
   "id": "799809b4-b724-420d-b136-eb8dacdb704c",
   "metadata": {},
   "outputs": [],
   "source": [
    "template_messages = [\n",
    "    SystemMessage(content=template),\n",
    "    MessagesPlaceholder(variable_name=\"chat_history\"),\n",
    "    (\"human\", \"{query}\")\n",
    "    #HumanMessage(content=\"{query}\")\n",
    "]\n",
    "\n",
    "prompt_template = ChatPromptTemplate.from_messages(template_messages)"
   ]
  },
  {
   "cell_type": "code",
   "execution_count": 9,
   "id": "ad7d6ec8-3763-4c4b-ac7f-a6a4d01929e9",
   "metadata": {},
   "outputs": [],
   "source": [
    "phone = 9804604602"
   ]
  },
  {
   "cell_type": "code",
   "execution_count": 10,
   "id": "9245dfb8-5cef-4f19-888d-d740d0f3a624",
   "metadata": {},
   "outputs": [],
   "source": [
    "user_data = get_info(phone)\n",
    "\n",
    "user_info = {\n",
    "    \"first_name\": user_data['first_name'],\n",
    "    \"last_name\": user_data['last_name']\n",
    "}"
   ]
  },
  {
   "cell_type": "code",
   "execution_count": 11,
   "id": "8ddb0349-c9b1-4159-aa94-ffe28f853865",
   "metadata": {},
   "outputs": [],
   "source": [
    "formatted_template = template.format(**user_info)\n",
    "template_messages[0] = SystemMessage(content=formatted_template)\n",
    "prompt_template = ChatPromptTemplate.from_messages(template_messages)"
   ]
  },
  {
   "cell_type": "code",
   "execution_count": 12,
   "id": "2d7b7789-03bc-49eb-85f4-fd22bdb76a71",
   "metadata": {},
   "outputs": [],
   "source": [
    "def chat(text:str) -> str:\n",
    "    messages = prompt_template.format_messages(\n",
    "        chat_history=chat_history,\n",
    "        query = text\n",
    "    )\n",
    "    chat_history.append(HumanMessage(text))\n",
    "    \n",
    "    response = llm_with_tools.invoke(messages)\n",
    "    chat_history.append(response)\n",
    "    \n",
    "    if response.tool_calls:\n",
    "        for tool_call in response.tool_calls:\n",
    "            tool = tool_mapping[tool_call['name']]\n",
    "            output = tool.invoke(tool_call['args'])\n",
    "            chat_history.append(ToolMessage(str(output), tool_call_id=tool_call['id']))\n",
    "            ai_says = llm_with_tools.invoke(chat_history)\n",
    "        chat_history.append(ai_says)\n",
    "    else:\n",
    "        ai_says = response\n",
    "\n",
    "    return ai_says.content"
   ]
  },
  {
   "cell_type": "code",
   "execution_count": 13,
   "id": "edbde726-72b6-4dc5-9fad-cd972e961579",
   "metadata": {},
   "outputs": [
    {
     "name": "stdin",
     "output_type": "stream",
     "text": [
      "You Said: Hello\n"
     ]
    },
    {
     "name": "stdout",
     "output_type": "stream",
     "text": [
      "Bot:  Hello Diya! I'm here to help with your loan management needs. How can I assist you today?\n"
     ]
    },
    {
     "name": "stdin",
     "output_type": "stream",
     "text": [
      "You Said: What is my phone number?\n"
     ]
    },
    {
     "name": "stdout",
     "output_type": "stream",
     "text": [
      "Bot:  Sorry, but I am unable to answer this query.\n"
     ]
    },
    {
     "name": "stdin",
     "output_type": "stream",
     "text": [
      "You Said: What is my loan amount?\n"
     ]
    },
    {
     "name": "stdout",
     "output_type": "stream",
     "text": [
      "Bot:  Your loan amount is 36100.6 INR.\n"
     ]
    },
    {
     "name": "stdin",
     "output_type": "stream",
     "text": [
      "You Said: thanks\n"
     ]
    }
   ],
   "source": [
    "while True:\n",
    "    query = input('You Said:')\n",
    "    if query is not None:\n",
    "        if query.lower() == 'thanks':\n",
    "            break\n",
    "        else:\n",
    "            res = chat(query)\n",
    "            print('Bot: ',res)"
   ]
  },
  {
   "cell_type": "code",
   "execution_count": 15,
   "id": "fdbb1d5e-07bf-4b20-a5e2-f0c701c85470",
   "metadata": {},
   "outputs": [
    {
     "data": {
      "text/plain": [
       "[HumanMessage(content='Hello', additional_kwargs={}, response_metadata={}),\n",
       " AIMessage(content=\"Hello Diya! I'm here to help with your loan management needs. How can I assist you today?\", additional_kwargs={}, response_metadata={'token_usage': {'prompt_tokens': 372, 'total_tokens': 395, 'completion_tokens': 23}, 'model': 'mistral-large-latest', 'finish_reason': 'stop'}, id='run-65dfc51d-3820-47ae-bd63-23e3b0b46984-0', usage_metadata={'input_tokens': 372, 'output_tokens': 23, 'total_tokens': 395}),\n",
       " HumanMessage(content='What is my phone number?', additional_kwargs={}, response_metadata={}),\n",
       " AIMessage(content='Sorry, but I am unable to answer this query.', additional_kwargs={}, response_metadata={'token_usage': {'prompt_tokens': 404, 'total_tokens': 415, 'completion_tokens': 11}, 'model': 'mistral-large-latest', 'finish_reason': 'stop'}, id='run-31f20744-bb62-43e4-b608-64ad27c6dbf4-0', usage_metadata={'input_tokens': 404, 'output_tokens': 11, 'total_tokens': 415}),\n",
       " HumanMessage(content='What is my loan amount?', additional_kwargs={}, response_metadata={}),\n",
       " AIMessage(content='', additional_kwargs={'tool_calls': [{'id': 'blpuzF6PL', 'function': {'name': 'get_user_data', 'arguments': '{}'}, 'index': 0}]}, response_metadata={'token_usage': {'prompt_tokens': 424, 'total_tokens': 442, 'completion_tokens': 18}, 'model': 'mistral-large-latest', 'finish_reason': 'tool_calls'}, id='run-ac866be9-9517-443a-9d90-0a3967e61e40-0', tool_calls=[{'name': 'get_user_data', 'args': {}, 'id': 'blpuzF6PL', 'type': 'tool_call'}], usage_metadata={'input_tokens': 424, 'output_tokens': 18, 'total_tokens': 442}),\n",
       " ToolMessage(content=\"{'first_name': 'Diya', 'last_name': 'Sharma', 'phone_no': 9804604602, 'gender': 'Female', 'income_in_inr': 380418.9, 'credit_score': 808, 'loan_type': 'Consumer Durable Loan', 'loan_amount': 36100.6, 'interest_rate': 12.4, 'process_fee': 361.0, 'installment': 6236.2, 'start_date': '2024-05-09', 'tenure': 6, 'balance_to_pay': 25866.4, 'payment_mode': 'Debit Card', 'late_payment': 0, 'last_date': '2024-08-03'}\", tool_call_id='blpuzF6PL'),\n",
       " AIMessage(content='Your loan amount is 36100.6 INR.', additional_kwargs={}, response_metadata={'token_usage': {'prompt_tokens': 407, 'total_tokens': 422, 'completion_tokens': 15}, 'model': 'mistral-large-latest', 'finish_reason': 'stop'}, id='run-58c3583a-54ea-4dc0-b266-11c15c1fd1c1-0', usage_metadata={'input_tokens': 407, 'output_tokens': 15, 'total_tokens': 422})]"
      ]
     },
     "execution_count": 15,
     "metadata": {},
     "output_type": "execute_result"
    }
   ],
   "source": [
    "chat_history"
   ]
  },
  {
   "cell_type": "code",
   "execution_count": null,
   "id": "4c56a5a4-1a8c-4dc8-820a-cbd37a138df7",
   "metadata": {},
   "outputs": [],
   "source": []
  }
 ],
 "metadata": {
  "kernelspec": {
   "display_name": "Python 3 (ipykernel)",
   "language": "python",
   "name": "python3"
  },
  "language_info": {
   "codemirror_mode": {
    "name": "ipython",
    "version": 3
   },
   "file_extension": ".py",
   "mimetype": "text/x-python",
   "name": "python",
   "nbconvert_exporter": "python",
   "pygments_lexer": "ipython3",
   "version": "3.10.16"
  }
 },
 "nbformat": 4,
 "nbformat_minor": 5
}
