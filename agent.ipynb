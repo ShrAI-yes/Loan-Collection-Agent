{
 "cells": [
  {
   "cell_type": "code",
   "execution_count": 9,
   "id": "6ba791a3-39dc-41ce-a764-1a495a5392bd",
   "metadata": {},
   "outputs": [],
   "source": [
    "import os\n",
    "import time\n",
    "import pygame\n",
    "from io import BytesIO\n",
    "from gtts import gTTS\n",
    "import speech_recognition as sr\n",
    "from langchain_mistralai import ChatMistralAI\n",
    "from langchain_core.output_parsers import StrOutputParser\n",
    "from langchain_core.prompts import ChatPromptTemplate\n",
    "import chromadb\n",
    "from chromadb.utils import embedding_functions\n",
    "from langchain_huggingface import HuggingFaceEmbeddings\n",
    "\n",
    "from db_search import get_info as search"
   ]
  },
  {
   "cell_type": "code",
   "execution_count": 10,
   "id": "a0eeaf83-b36a-4391-a396-652a01de4eb1",
   "metadata": {},
   "outputs": [],
   "source": [
    "llm = ChatMistralAI(\n",
    "    model=\"mistral-large-latest\",\n",
    "    temperature=0,\n",
    "    max_retries=2,\n",
    "    api_key=\"I5uzjp4ZXUioIEM7hdYgdJtpv4NUlWov\"\n",
    ")"
   ]
  },
  {
   "cell_type": "code",
   "execution_count": 11,
   "id": "b68dd131-e556-44ed-942b-6992618cec1e",
   "metadata": {},
   "outputs": [],
   "source": [
    "def recognize_speech():\n",
    "    recognizer = sr.Recognizer()\n",
    "    with sr.Microphone() as source:\n",
    "        print(\"_\"*100)\n",
    "        try:\n",
    "            audio = recognizer.listen(source, timeout=300)\n",
    "            user_input = recognizer.recognize_google(audio)\n",
    "            print(f\"You said: {user_input}\")\n",
    "            return user_input\n",
    "        except sr.UnknownValueError:\n",
    "            return None\n",
    "        except sr.WaitTimeoutError:\n",
    "            return None"
   ]
  },
  {
   "cell_type": "code",
   "execution_count": 12,
   "id": "946af7bd-33af-4f0f-8ed2-52d6d831f544",
   "metadata": {},
   "outputs": [],
   "source": [
    "def speak_text(text):\n",
    "    try:\n",
    "        tts = gTTS(text=text, lang='en')\n",
    "        mp3_fp = BytesIO()  # Create in-memory file object\n",
    "        tts.write_to_fp(mp3_fp)\n",
    "        mp3_fp.seek(0)  # Important: rewind to the beginning of the file\n",
    "    \n",
    "        pygame.mixer.init()  # Initialize mixer (do this ONCE in your program)\n",
    "        pygame.mixer.music.load(mp3_fp)\n",
    "        pygame.mixer.music.play()\n",
    "\n",
    "        while pygame.mixer.music.get_busy():\n",
    "            pygame.time.Clock().tick(10)\n",
    "\n",
    "    except Exception as e:\n",
    "        print(f\"Error: {e}\")"
   ]
  },
  {
   "cell_type": "code",
   "execution_count": 13,
   "id": "701968db-a19b-4bd4-8264-7d2e20d71cf1",
   "metadata": {},
   "outputs": [],
   "source": [
    "def get_policies():\n",
    "    embedding_function = embedding_functions.SentenceTransformerEmbeddingFunction(model_name=\"all-mpnet-base-v2\")\n",
    "    client = chromadb.PersistentClient(path=\"./vector_db/\")\n",
    "    collection = client.get_or_create_collection(\n",
    "        name='policies',\n",
    "        embedding_function=embedding_function\n",
    "    )\n",
    "        \n",
    "    query = 'All policies and guidelines related to the customer'\n",
    "    \n",
    "    results = collection.query(\n",
    "        query_texts=[query],\n",
    "        n_results=5,\n",
    "        include=[\"documents\", \"metadatas\"]\n",
    "    )\n",
    "\n",
    "    return ''.join([rules for rules in results['documents'][0]])"
   ]
  },
  {
   "cell_type": "code",
   "execution_count": 14,
   "id": "c0cc4a0d-ef83-4873-a706-c947f0a759f0",
   "metadata": {},
   "outputs": [],
   "source": [
    "def get_response(user_query, phone) -> str:\n",
    "\n",
    "    policies = get_policies()\n",
    "    user_data = search(phone)\n",
    "    \n",
    "    #Also, make sure to answer the following questions considering the history of the conversation:\n",
    "    llm_query_res_template = \"\"\"\n",
    "        You are an intelligent virtual financial assistant, directly engaging with {first} {last} about their loan repayments queries.\n",
    "        They are a {gender} having an income of INR {income} with a {credit} Credit Score. \n",
    "        They have availed a {loan_type} of amount INR {loan} with a {interest}% interest rate and loan processing fee of INR {process_fee}.\n",
    "        They have planned to start repaying their loan in installments of amount INR {installment} from {start_date} over a period of {tenure} months.\n",
    "        They have yet to repay a loan of INR {balance} through {payment_mode}.\n",
    "        They already have {late_payment} late payment(s) and their last date of loan repayment is {last_date}. \n",
    "        \n",
    "        Your role is to help manage their loan repayment and answer financial questions in a clear and precise way. \n",
    "        Communicate in a friendly, professional, authoritative manner and address the customer directly (\"you\") with concise responses.\n",
    "        Make sure you communicate with the user in such a way that your response should always lead to their loan repayment.\n",
    "        While responding to the user's queries consider their provided information to give accurate answers\n",
    "        Based on the user question, you should respond in a short way. Do not write much; it should be short and precise.\n",
    "        \n",
    "        Answer the question while adhering to the following policies: {policies}. \n",
    "        \n",
    "        Instructions:\n",
    "        1. Use precise financial language and ensure clear, accurate information.\n",
    "        2. If the user is willing to pay the loan then please provide this link '''https://paymentUSER1UDN.com'''. Do not send the link until user requests or user wants to pay the loan.\n",
    "        3. If the customer is struggling, provide options like grace periods, payment restructuring, or deadline extensions considering their income, number of late repayment and loan amount yet to be repayed.\n",
    "        4. Keep responses short and to the point.\n",
    "        5. Ensure confidentiality and remind the customer to keep their payment details secure.\n",
    "        6. You can only extend the last loan repayment date by a maximum of 10 days if user requests for grace periods or deadline extensions considering their income, number of late repayment and loan amount yet to be repayed.\n",
    "        7. If the question cannot be answered using the information provided, reply with \"Sorry, but I am unable to answer this query\". \n",
    "\n",
    "        Question: {user_query}\n",
    "        Answer:\n",
    "    \"\"\"\n",
    "\n",
    "    prompt_query_res_template = ChatPromptTemplate.from_template(llm_query_res_template)\n",
    "    llm_chain = prompt_query_res_template | llm | StrOutputParser()\n",
    "\n",
    "    response = ''.join([chunk for chunk in llm_chain.stream({\n",
    "        \"user_query\": user_query,\n",
    "        \"first\": user_data['F_Name'][0],\n",
    "        \"last\": user_data['L_Name'][0],\n",
    "        \"gender\": user_data['Gender'][0],\n",
    "        \"income\": user_data['Income'][0],\n",
    "        \"credit\": user_data['Bureau_score'][0],\n",
    "        \"loan_type\": user_data['Loan_type'][0],\n",
    "        \"loan\" : user_data['Loan_amount'][0],\n",
    "        \"interest\": user_data['Interest_Rate'][0],\n",
    "        \"process_fee\": user_data['Loan_Processing_Fee'][0],\n",
    "        \"installment\": user_data['Installment_Amount'][0],\n",
    "        \"start_date\": user_data['Repayment_Start_Date'][0],\n",
    "        \"tenure\": user_data['Repayment_tenure'][0],\n",
    "        \"balance\": user_data['Current_balance'][0],\n",
    "        \"payment_mode\": user_data['Repayment_mode'][0],\n",
    "        \"late_payment\": user_data['No_of_late_payments'][0],\n",
    "        \"last_date\": user_data['Date_of_last_payment'][0],\n",
    "        \"policies\": policies\n",
    "    })])\n",
    "\n",
    "    return response"
   ]
  },
  {
   "cell_type": "code",
   "execution_count": 15,
   "id": "bc73ef18-99ab-4f06-b984-758715f73695",
   "metadata": {},
   "outputs": [],
   "source": [
    "def chatbot(phone):\n",
    "    print(\"Voice-enabled Chatbot is now running! Say 'quit' to exit.\")\n",
    "    while True:\n",
    "        user_query = recognize_speech()\n",
    "        start_time = time.time()\n",
    "        if not user_query:\n",
    "            continue\n",
    "        if user_query.lower() == \"thanks\":\n",
    "            print(\"Glad to help!\")\n",
    "            break\n",
    "            \n",
    "        response = get_response(user_query=user_query, phone=phone)\n",
    "        end_time = time.time()\n",
    "        print(f'Bot: {response}')\n",
    "        speak_text(response)\n",
    "\n",
    "        latency = end_time - start_time\n",
    "        print(f\"Response latency: {latency:.2f} seconds\")"
   ]
  },
  {
   "cell_type": "code",
   "execution_count": 16,
   "id": "269b14fa-b5a3-4553-8395-5c5e85d85f72",
   "metadata": {},
   "outputs": [
    {
     "name": "stdout",
     "output_type": "stream",
     "text": [
      "Voice-enabled Chatbot is now running! Say 'quit' to exit.\n",
      "____________________________________________________________________________________________________\n",
      "You said: can you help me with my loan payment\n",
      "Bot: Of course, Myra! You've planned to start repaying your Consumer Durable Loan of INR 43431.0 with installments of INR 7468.2 from 2023-10-02 over 6 months. You also have an outstanding UPI loan of INR 23371.7. Would you like to proceed with a payment today?\n",
      "Response latency: 2.61 seconds\n",
      "____________________________________________________________________________________________________\n",
      "You said: thanks\n",
      "Glad to help!\n"
     ]
    }
   ],
   "source": [
    "if __name__ == '__main__':\n",
    "    chatbot(9988953565)"
   ]
  },
  {
   "cell_type": "code",
   "execution_count": null,
   "id": "9f06e3c3-f8e1-473e-befd-6f79ba4abcdf",
   "metadata": {},
   "outputs": [],
   "source": []
  }
 ],
 "metadata": {
  "kernelspec": {
   "display_name": "Python 3 (ipykernel)",
   "language": "python",
   "name": "python3"
  },
  "language_info": {
   "codemirror_mode": {
    "name": "ipython",
    "version": 3
   },
   "file_extension": ".py",
   "mimetype": "text/x-python",
   "name": "python",
   "nbconvert_exporter": "python",
   "pygments_lexer": "ipython3",
   "version": "3.11.11"
  }
 },
 "nbformat": 4,
 "nbformat_minor": 5
}
